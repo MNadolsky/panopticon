{
 "cells": [
  {
   "cell_type": "markdown",
   "metadata": {},
   "source": [
    "# Use GovTrack API to track bills through Congress\n",
    "\n",
    "There are four main views on the website:\n",
    "1. Overview of all bills from current Congress.\n",
    "2. List of all bills on the docket, moving into, or heading out of a given Chamber (or the Executive branch).\n",
    "3. List of all bills in a given Chamber with a specific status (e.g. In Committee, On the Docket, Entering from Other Chamber, Dead, etc)\n",
    "4. Pages showing detailed info on individual bills, including:\n",
    "  + Names and contact info of the bill's sponsors\n",
    "  + Summary of the bill\n",
    "  + Full text of the bill\n",
    "  \n",
    "## Filters\n",
    "Views 1, 2, and 3 can be filtered on any combination of the following attributes:\n",
    "+ Party of a bill's sponsors\n",
    "+ Which committee has \"jurisdiction\" over a bill\n",
    "+ Bill topic(s) (E.g. taxes, tariffs, defense, infrastructure, etc.)\n",
    "+ Bill status\n",
    "  \n",
    "## Data required for each view\n",
    "### View 1: Overview of all bills from current Congress\n",
    "\n",
    "### View 2: List of all bills, of all statuses, in a single Chamber\n",
    "1. Current bill statuses\n",
    "    + Will likely require additional calculation\n",
    "2. Bill ID numbers\n",
    "3. Bill summary\n",
    "3. Bill's sponsors\n",
    "4. Party affiliation(s) of bills' sponsors\n",
    "5. Bill topic(s)\n",
    "    + May require additional calculations\n",
    "6. Committee jurisdiction of each bill\n",
    "\n",
    "\n",
    "\n",
    "### View 3: List of all bills with a single status in a single Chamber\n",
    "1. Current bill statuses\n",
    "    + Will likely require additional calculation\n",
    "2. Bill ID numbers\n",
    "3. Bill summary\n",
    "3. Bill's sponsors\n",
    "4. Party affiliation(s) of bills' sponsors\n",
    "5. Bill topic(s)\n",
    "    + May require additional calculations\n",
    "6. Committee jurisdiction of each bill\n",
    "8. Date that bill was introduced (?)\n",
    "9. Dates of all changes to bill's status (?)\n",
    "\n",
    "\n",
    "### View 4: Detailed info on a single bill\n",
    "1. Bill ID number\n",
    "2. Bill title\n",
    "3. Bill's sponsors\n",
    "4. Contact info for the bill's sponsors\n",
    "5. Party affiliation of the bill's sponsors\n",
    "6. Bill summary\n",
    "7. Full text of the bill\n",
    "8. Date that bill was introduced (?)\n",
    "9. Dates of all changes to bill's status (?)\n",
    "5. Bill topic(s)\n",
    "    + May require additional calculations\n",
    "6. Committee jurisdiction of each bill\n"
   ]
  },
  {
   "cell_type": "code",
   "execution_count": 1,
   "metadata": {
    "collapsed": true
   },
   "outputs": [],
   "source": [
    "import requests\n",
    "import json"
   ]
  },
  {
   "cell_type": "code",
   "execution_count": 11,
   "metadata": {
    "collapsed": false
   },
   "outputs": [],
   "source": [
    "r = requests.get(\"https://www.govtrack.us/api/v2/bill?congress=114&order_by=-current_status_date\")"
   ]
  },
  {
   "cell_type": "code",
   "execution_count": 12,
   "metadata": {
    "collapsed": false
   },
   "outputs": [
    {
     "data": {
      "text/plain": [
       "True"
      ]
     },
     "execution_count": 12,
     "metadata": {},
     "output_type": "execute_result"
    }
   ],
   "source": [
    "r.ok"
   ]
  },
  {
   "cell_type": "code",
   "execution_count": 15,
   "metadata": {
    "collapsed": false
   },
   "outputs": [],
   "source": [
    "data = r.json()"
   ]
  },
  {
   "cell_type": "code",
   "execution_count": 16,
   "metadata": {
    "collapsed": false
   },
   "outputs": [
    {
     "data": {
      "text/plain": [
       "[u'meta', u'objects']"
      ]
     },
     "execution_count": 16,
     "metadata": {},
     "output_type": "execute_result"
    }
   ],
   "source": [
    "data.keys()"
   ]
  },
  {
   "cell_type": "code",
   "execution_count": 18,
   "metadata": {
    "collapsed": false
   },
   "outputs": [
    {
     "data": {
      "text/plain": [
       "100"
      ]
     },
     "execution_count": 18,
     "metadata": {},
     "output_type": "execute_result"
    }
   ],
   "source": [
    "len(data['objects'])"
   ]
  },
  {
   "cell_type": "code",
   "execution_count": 21,
   "metadata": {
    "collapsed": true
   },
   "outputs": [],
   "source": [
    "test = data[\"objects\"][0]"
   ]
  },
  {
   "cell_type": "code",
   "execution_count": 22,
   "metadata": {
    "collapsed": false
   },
   "outputs": [
    {
     "data": {
      "text/plain": [
       "[u'lock_title',\n",
       " u'sliplawpubpriv',\n",
       " u'number',\n",
       " u'docs_house_gov_postdate',\n",
       " u'titles',\n",
       " u'sponsor',\n",
       " u'related_bills',\n",
       " u'id',\n",
       " u'source',\n",
       " u'senate_floor_schedule_postdate',\n",
       " u'current_status_description',\n",
       " u'current_status_label',\n",
       " u'sponsor_role',\n",
       " u'is_alive',\n",
       " u'title_without_number',\n",
       " u'congress',\n",
       " u'source_link',\n",
       " u'major_actions',\n",
       " u'bill_type',\n",
       " u'is_current',\n",
       " u'display_number',\n",
       " u'bill_type_label',\n",
       " u'noun',\n",
       " u'bill_resolution_type',\n",
       " u'current_status_date',\n",
       " u'title',\n",
       " u'current_status',\n",
       " u'introduced_date',\n",
       " u'sliplawnum',\n",
       " u'link']"
      ]
     },
     "execution_count": 22,
     "metadata": {},
     "output_type": "execute_result"
    }
   ],
   "source": [
    "test.keys()"
   ]
  },
  {
   "cell_type": "code",
   "execution_count": 34,
   "metadata": {
    "collapsed": false
   },
   "outputs": [
    {
     "name": "stdout",
     "output_type": "stream",
     "text": [
      "lock_title :  False\n",
      "sliplawpubpriv :  None\n",
      "number :  6380\n",
      "docs_house_gov_postdate :  None\n",
      "titles :  [[u'official', u'introduced', u'To amend the Omnibus Crime Control and Safe Streets Act of 1968 to authorize COPS grantees to use grant funds to hire veterans as career law enforcement officers, and for other purposes.'], [u'display', None, u'To amend the Omnibus Crime Control and Safe Streets Act of 1968 to authorize COPS grantees to use grant funds to hire veterans as career law enforcement officers, and for other purposes.']]\n",
      "sponsor :  {u'name': u'Rep. Will Hurd [R-TX23]', u'firstname': u'Will', u'twitterid': u'hurdonthehill', u'middlename': u'', u'gender': u'male', u'bioguideid': u'H001073', u'namemod': u'', u'birthday': u'1977-08-19', u'link': u'https://www.govtrack.us/congress/members/will_hurd/412654', u'youtubeid': None, u'sortname': u'Hurd, Will (Rep.) [R-TX23]', u'lastname': u'Hurd', u'gender_label': u'Male', u'osid': u'N00031417', u'pvsid': None, u'nickname': u'', u'id': 412654, u'cspanid': None}\n",
      "related_bills :  []\n",
      "id :  347091\n",
      "source :  thomas-congproj\n",
      "senate_floor_schedule_postdate :  None\n",
      "current_status_description :  This bill was assigned to a congressional committee on November 18, 2016, which will consider it before possibly sending it on to the House or Senate as a whole.\n",
      "current_status_label :  Referred to Committee\n",
      "sponsor_role :  {u'website': u'https://hurd.house.gov', u'startdate': u'2015-01-06', u'role_type_label': u'Representative', u'enddate': u'2017-01-03', u'description': u\"Representative for Texas's 23rd congressional district\", u'district': 23, u'extra': {u'office': u'317 Cannon House Office Building', u'address': u'317 Cannon HOB; Washington DC 20515-4323'}, u'title': u'Rep.', u'congress_numbers': [114], u'phone': u'202-225-4511', u'title_long': u'Representative', u'current': True, u'person': 412654, u'state': u'TX', u'senator_rank': None, u'role_type': u'representative', u'leadership_title': None, u'senator_class': None, u'party': u'Republican', u'id': 43715, u'caucus': None}\n",
      "is_alive :  True\n",
      "title_without_number :  To amend the Omnibus Crime Control and Safe Streets Act of 1968 to authorize COPS grantees to use grant funds to hire veterans as career law enforcement officers, and for other purposes.\n",
      "congress :  114\n",
      "source_link :  None\n",
      "major_actions :  [[u'datetime.datetime(2016, 11, 18, 0, 0)', 2, u'Referred to the House Committee on the Judiciary.', u'<action datetime=\"2016-11-18\" state=\"REFERRED\">\\n      <text>Referred to the House Committee on the Judiciary.</text>\\n    </action>\\n  ']]\n",
      "bill_type :  house_bill\n",
      "is_current :  True\n",
      "display_number :  H.R. 6380\n",
      "bill_type_label :  H.R.\n",
      "noun :  bill\n",
      "bill_resolution_type :  bill\n",
      "current_status_date :  2016-11-18\n",
      "title :  H.R. 6380: To amend the Omnibus Crime Control and Safe Streets Act of 1968 to authorize COPS grantees to use grant funds to hire veterans as career law enforcement officers, and for other purposes.\n",
      "current_status :  referred\n",
      "introduced_date :  2016-11-18\n",
      "sliplawnum :  None\n",
      "link :  https://www.govtrack.us/congress/bills/114/hr6380\n"
     ]
    }
   ],
   "source": [
    "for key in test.keys():\n",
    "    print key,\": \", test[key]"
   ]
  },
  {
   "cell_type": "code",
   "execution_count": null,
   "metadata": {
    "collapsed": true
   },
   "outputs": [],
   "source": []
  }
 ],
 "metadata": {
  "kernelspec": {
   "display_name": "Python 2",
   "language": "python",
   "name": "python2"
  },
  "language_info": {
   "codemirror_mode": {
    "name": "ipython",
    "version": 2
   },
   "file_extension": ".py",
   "mimetype": "text/x-python",
   "name": "python",
   "nbconvert_exporter": "python",
   "pygments_lexer": "ipython2",
   "version": "2.7.11"
  }
 },
 "nbformat": 4,
 "nbformat_minor": 0
}
